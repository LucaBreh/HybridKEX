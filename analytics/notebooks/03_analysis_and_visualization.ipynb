{
 "cells": [
  {
   "metadata": {},
   "cell_type": "markdown",
   "source": "# 03 – Analysis and Visualization\n",
   "id": "14aef8aba61e65a1"
  },
  {
   "metadata": {
    "ExecuteTime": {
     "end_time": "2025-04-10T10:05:09.247216Z",
     "start_time": "2025-04-10T10:05:09.242105Z"
    }
   },
   "cell_type": "code",
   "source": [
    "import pandas as pd\n",
    "import seaborn as sns\n",
    "import matplotlib.pyplot as plt"
   ],
   "id": "6fa8f536bb397ff9",
   "outputs": [],
   "execution_count": 2
  },
  {
   "metadata": {},
   "cell_type": "markdown",
   "source": [
    "This notebook presents a systematic analysis of all handshake experiments executed in the Key Exchange (KEX) performance evaluation framework.\n",
    "It builds upon the parsed data from `02_parsing_and_exploration.ipynb`, consolidating runtime metrics, resource usage, and experiment metadata.\n",
    "The data includes multiple experiments across three KEX modes (`classic`, `hybrid`, `pqc`) and two execution environments (`docker`, `native`), under various network profiles.\n"
   ],
   "id": "25856751ae626d43"
  },
  {
   "metadata": {},
   "cell_type": "markdown",
   "source": "## 1. Introduction",
   "id": "63692c2cd3df2f1f"
  },
  {
   "metadata": {},
   "cell_type": "markdown",
   "source": [
    "### Objectives\n",
    "\n",
    "The main objectives of this analysis are:\n",
    "\n",
    "- Determine which key exchange variant performs best in terms of handshake duration and resource usage.\n",
    "- Assess the impact of constrained network profiles on handshake performance taking into account the key exchange algorithm\n",
    "- Compare the behavior of Docker-based versus native execution environments.\n",
    "- Analyze the CPU and RAM usage across different modes and setups.\n",
    "- Examine handshake stability under various simulated conditions.\n"
   ],
   "id": "5d93b06b065cac7c"
  },
  {
   "metadata": {},
   "cell_type": "markdown",
   "source": [
    "### Research Questions\n",
    "\n",
    "- How does a hybrid key exchange approach impact handshake efficiency under varying network conditions?\n",
    "- What performance trade-offs exist between classical, hybrid, and post-quantum key exchange modes?\n",
    "- Is Docker-based execution significantly different in terms of timing and system resource usage compared to native execution?\n",
    "- How stable and robust are the different key exchange variants when deployed under constrained network profiles?"
   ],
   "id": "e7fa74d56c386581"
  },
  {
   "metadata": {},
   "cell_type": "markdown",
   "source": "## 2. Methodology",
   "id": "24ad40c0df8974d0"
  },
  {
   "metadata": {},
   "cell_type": "markdown",
   "source": [
    "This section outlines the experimental setup, including the execution environments, the applied network profiles, and the measurement approach.\n",
    "\n",
    "Experiments were executed using both Docker-based containers and native Python processes. Simulated network conditions were applied using `tc netem` in the Docker setup to reflect realistic latency, packet loss, and bandwidth constraints."
   ],
   "id": "24bafda033df3482"
  },
  {
   "metadata": {},
   "cell_type": "markdown",
   "source": [
    "### 2.1 Execution Environments\n",
    "\n",
    "Two environments were used to run the experiments:\n",
    "\n",
    "- **Docker**: Client and server were executed in isolated containers connected via a custom bridge network. Network manipulation using `tc netem` was applied directly inside the server container.\n",
    "- **Native**: Client and server were executed as native Python processes on the host system without additional containerization or artificial network constraints.\n",
    "\n",
    "Note: Only `experiment_01` was executed in both environments and can therefore be used for direct Docker vs. Native comparison.\n"
   ],
   "id": "4bf88d01c5b62e29"
  },
  {
   "metadata": {},
   "cell_type": "markdown",
   "source": [
    "### 2.2 Network Profiles\n",
    "\n",
    "To simulate constrained or realistic environments, six network profiles were defined and applied to the Docker-based experiments via `tc netem`. These profiles emulate common real-world scenarios such as mobile networks, WiFi, and satellite communication.\n",
    "\n",
    "Each profile defines parameters for:\n",
    "\n",
    "- **Delay** (one-way latency per packet)\n",
    "- **Packet loss** (random drop probability)\n",
    "- **Rate limiting** (maximum bandwidth)\n",
    "- **Burst and latency buffer** (for TBF shaping)\n",
    "\n",
    "The profiles were applied to `experiment_02` through `experiment_06`. The native setup did not include artificial constraints.\n"
   ],
   "id": "b6d9bba223d3c94d"
  },
  {
   "metadata": {},
   "cell_type": "markdown",
   "source": [
    "| Experiment ID | Profile Name         | Delay | Packet Loss | Bandwidth | Burst  | Latency Buffer |\n",
    "|---------------|----------------------|--------|--------------|-----------|--------|----------------|\n",
    "| experiment_01 | None (baseline)      | —      | —            | —         | —      | —              |\n",
    "| experiment_02 | netem_mobile         | 150ms  | 3%           | 700kbit   | 32kbit | 500ms          |\n",
    "| experiment_03 | netem_lan            | 200ms  | 0%           | —         | —      | —              |\n",
    "| experiment_04 | netem_package_loss   | 50ms   | 10%          | —         | —      | —              |\n",
    "| experiment_05 | netem_good_wlan      | 30ms   | 0.5%         | 5mbit     | 64kbit | 200ms          |\n",
    "| experiment_06 | netem_satelite       | 30ms   | 0.5%         | 5mbit     | 64kbit | 200ms          |"
   ],
   "id": "1318ab109500de07"
  },
  {
   "metadata": {},
   "cell_type": "markdown",
   "source": [
    "### 2.3 Hardware\n",
    "\n",
    "All experiments were conducted locally on the following hardware:\n",
    "\n",
    "- **Device**: MacBook Pro (Apple Silicon)\n",
    "- **Chip**: Apple M4 Pro\n",
    "- **Memory**: 24GB Unified Memory\n",
    "- **CPU**: 12-core\n",
    "- **GPU**: 16-core\n",
    "\n",
    "Both Docker and native processes were executed on the same machine under low system load to ensure reproducibility and consistency.\n"
   ],
   "id": "5aa2ae79a21a1bc4"
  },
  {
   "metadata": {},
   "cell_type": "markdown",
   "source": "## 3. Client vs. Server Duration Comparison",
   "id": "fb38a0e3c5b20088"
  },
  {
   "metadata": {},
   "cell_type": "markdown",
   "source": [
    "This section investigates the differences between the handshake duration measured by the client and the server.\n",
    "\n",
    "Since both sides log their own timing independently, analyzing the gap between these values helps understand whether:\n",
    "\n",
    "- network latency is accurately reflected in the measurements,\n",
    "- one side systematically under- or overestimates the handshake duration,\n",
    "- client-side and server-side processing times differ by key exchange mode."
   ],
   "id": "eabfd5ef7dfe2db6"
  },
  {
   "metadata": {
    "ExecuteTime": {
     "end_time": "2025-04-10T10:05:15.595399Z",
     "start_time": "2025-04-10T10:05:15.547087Z"
    }
   },
   "cell_type": "code",
   "source": [
    "#Load dataframe from csv (created in previous notebook)\n",
    "df_all = pd.read_csv(\"../data/all_measurements.csv\")"
   ],
   "id": "fb8c3dfde6f0d523",
   "outputs": [],
   "execution_count": 3
  },
  {
   "metadata": {
    "ExecuteTime": {
     "end_time": "2025-04-10T10:05:16.515188Z",
     "start_time": "2025-04-10T10:05:16.488830Z"
    }
   },
   "cell_type": "code",
   "source": [
    "# Filter only relevant columns for merging\n",
    "client_df = df_all[df_all[\"side\"] == \"client\"][[\"experiment\", \"setup\", \"mode\", \"duration_sec\"]].copy()\n",
    "client_df = client_df.rename(columns={\"duration_sec\": \"duration_client\"})\n",
    "\n",
    "server_df = df_all[df_all[\"side\"] == \"server\"][[\"experiment\", \"setup\", \"mode\", \"duration_sec\"]].copy()\n",
    "server_df = server_df.rename(columns={\"duration_sec\": \"duration_server\"})"
   ],
   "id": "5b3020b20f62f803",
   "outputs": [],
   "execution_count": 4
  },
  {
   "metadata": {
    "ExecuteTime": {
     "end_time": "2025-04-10T10:05:19.085390Z",
     "start_time": "2025-04-10T10:05:17.197191Z"
    }
   },
   "cell_type": "code",
   "source": [
    "# Merge client and server logs row-wise by experiment/setup/mode\n",
    "df_merged = pd.merge(client_df, server_df, on=[\"experiment\", \"setup\", \"mode\"])\n",
    "\n",
    "# Calculate absolute and relative difference\n",
    "df_merged[\"abs_diff\"] = (df_merged[\"duration_client\"] - df_merged[\"duration_server\"]).abs()\n",
    "df_merged[\"rel_diff\"] = df_merged[\"abs_diff\"] / df_merged[[\"duration_client\", \"duration_server\"]].max(axis=1)"
   ],
   "id": "c36ac846452c844e",
   "outputs": [],
   "execution_count": 5
  },
  {
   "metadata": {},
   "cell_type": "markdown",
   "source": [
    "We calculate both the absolute and relative difference in handshake duration between client and server, grouped by mode and experiment.\n",
    "\n",
    "This helps identify whether one side consistently reports higher durations and whether the gap depends on the network profile or execution mode.\n"
   ],
   "id": "133d0471f1577865"
  },
  {
   "metadata": {
    "ExecuteTime": {
     "end_time": "2025-04-10T10:05:26.909063Z",
     "start_time": "2025-04-10T10:05:24.662115Z"
    }
   },
   "cell_type": "code",
   "source": [
    "df_diff_summary = (\n",
    "    df_merged\n",
    "    .groupby([\"setup\", \"experiment\", \"mode\"])[[\"duration_client\", \"duration_server\", \"abs_diff\", \"rel_diff\"]]\n",
    "    .median()\n",
    "    .reset_index()\n",
    ")\n",
    "\n",
    "df_diff_summary"
   ],
   "id": "86b88829a7b51c22",
   "outputs": [
    {
     "data": {
      "text/plain": [
       "     setup     experiment     mode  duration_client  duration_server  \\\n",
       "0   docker  experiment_01  classic         0.000230         0.000113   \n",
       "1   docker  experiment_01   hybrid         0.000286         0.000244   \n",
       "2   docker  experiment_01      pqc         0.000205         0.000121   \n",
       "3   docker  experiment_02  classic         0.307870         0.154496   \n",
       "4   docker  experiment_02   hybrid         0.308751         0.155490   \n",
       "5   docker  experiment_02      pqc         0.308323         0.154585   \n",
       "6   docker  experiment_03  classic         0.408155         0.204739   \n",
       "7   docker  experiment_03   hybrid         0.410920         0.206668   \n",
       "8   docker  experiment_03      pqc         0.408299         0.204730   \n",
       "9   docker  experiment_04  classic         0.108011         0.054715   \n",
       "10  docker  experiment_04   hybrid         0.108844         0.055538   \n",
       "11  docker  experiment_04      pqc         0.108107         0.054541   \n",
       "12  docker  experiment_05  classic         0.066989         0.033990   \n",
       "13  docker  experiment_05   hybrid         0.067655         0.034601   \n",
       "14  docker  experiment_05      pqc         0.066997         0.033769   \n",
       "15  docker  experiment_06  classic         0.067018         0.033946   \n",
       "16  docker  experiment_06   hybrid         0.067465         0.034554   \n",
       "17  docker  experiment_06      pqc         0.067047         0.033886   \n",
       "18  native  experiment_01  classic         0.000249         0.000246   \n",
       "19  native  experiment_01   hybrid         0.000317         0.000313   \n",
       "20  native  experiment_01      pqc         0.000098         0.000051   \n",
       "\n",
       "    abs_diff  rel_diff  \n",
       "0   0.000107  0.500000  \n",
       "1   0.000046  0.160808  \n",
       "2   0.000091  0.423402  \n",
       "3   0.153761  0.499354  \n",
       "4   0.153503  0.497283  \n",
       "5   0.153967  0.499370  \n",
       "6   0.203591  0.498703  \n",
       "7   0.204335  0.497467  \n",
       "8   0.203722  0.498793  \n",
       "9   0.054384  0.503523  \n",
       "10  0.054416  0.499644  \n",
       "11  0.054485  0.504372  \n",
       "12  0.032995  0.492711  \n",
       "13  0.032990  0.488002  \n",
       "14  0.033236  0.496720  \n",
       "15  0.033134  0.494709  \n",
       "16  0.032855  0.487495  \n",
       "17  0.033226  0.495568  \n",
       "18  0.000020  0.075671  \n",
       "19  0.000021  0.065471  \n",
       "20  0.000042  0.440443  "
      ],
      "text/html": [
       "<div>\n",
       "<style scoped>\n",
       "    .dataframe tbody tr th:only-of-type {\n",
       "        vertical-align: middle;\n",
       "    }\n",
       "\n",
       "    .dataframe tbody tr th {\n",
       "        vertical-align: top;\n",
       "    }\n",
       "\n",
       "    .dataframe thead th {\n",
       "        text-align: right;\n",
       "    }\n",
       "</style>\n",
       "<table border=\"1\" class=\"dataframe\">\n",
       "  <thead>\n",
       "    <tr style=\"text-align: right;\">\n",
       "      <th></th>\n",
       "      <th>setup</th>\n",
       "      <th>experiment</th>\n",
       "      <th>mode</th>\n",
       "      <th>duration_client</th>\n",
       "      <th>duration_server</th>\n",
       "      <th>abs_diff</th>\n",
       "      <th>rel_diff</th>\n",
       "    </tr>\n",
       "  </thead>\n",
       "  <tbody>\n",
       "    <tr>\n",
       "      <th>0</th>\n",
       "      <td>docker</td>\n",
       "      <td>experiment_01</td>\n",
       "      <td>classic</td>\n",
       "      <td>0.000230</td>\n",
       "      <td>0.000113</td>\n",
       "      <td>0.000107</td>\n",
       "      <td>0.500000</td>\n",
       "    </tr>\n",
       "    <tr>\n",
       "      <th>1</th>\n",
       "      <td>docker</td>\n",
       "      <td>experiment_01</td>\n",
       "      <td>hybrid</td>\n",
       "      <td>0.000286</td>\n",
       "      <td>0.000244</td>\n",
       "      <td>0.000046</td>\n",
       "      <td>0.160808</td>\n",
       "    </tr>\n",
       "    <tr>\n",
       "      <th>2</th>\n",
       "      <td>docker</td>\n",
       "      <td>experiment_01</td>\n",
       "      <td>pqc</td>\n",
       "      <td>0.000205</td>\n",
       "      <td>0.000121</td>\n",
       "      <td>0.000091</td>\n",
       "      <td>0.423402</td>\n",
       "    </tr>\n",
       "    <tr>\n",
       "      <th>3</th>\n",
       "      <td>docker</td>\n",
       "      <td>experiment_02</td>\n",
       "      <td>classic</td>\n",
       "      <td>0.307870</td>\n",
       "      <td>0.154496</td>\n",
       "      <td>0.153761</td>\n",
       "      <td>0.499354</td>\n",
       "    </tr>\n",
       "    <tr>\n",
       "      <th>4</th>\n",
       "      <td>docker</td>\n",
       "      <td>experiment_02</td>\n",
       "      <td>hybrid</td>\n",
       "      <td>0.308751</td>\n",
       "      <td>0.155490</td>\n",
       "      <td>0.153503</td>\n",
       "      <td>0.497283</td>\n",
       "    </tr>\n",
       "    <tr>\n",
       "      <th>5</th>\n",
       "      <td>docker</td>\n",
       "      <td>experiment_02</td>\n",
       "      <td>pqc</td>\n",
       "      <td>0.308323</td>\n",
       "      <td>0.154585</td>\n",
       "      <td>0.153967</td>\n",
       "      <td>0.499370</td>\n",
       "    </tr>\n",
       "    <tr>\n",
       "      <th>6</th>\n",
       "      <td>docker</td>\n",
       "      <td>experiment_03</td>\n",
       "      <td>classic</td>\n",
       "      <td>0.408155</td>\n",
       "      <td>0.204739</td>\n",
       "      <td>0.203591</td>\n",
       "      <td>0.498703</td>\n",
       "    </tr>\n",
       "    <tr>\n",
       "      <th>7</th>\n",
       "      <td>docker</td>\n",
       "      <td>experiment_03</td>\n",
       "      <td>hybrid</td>\n",
       "      <td>0.410920</td>\n",
       "      <td>0.206668</td>\n",
       "      <td>0.204335</td>\n",
       "      <td>0.497467</td>\n",
       "    </tr>\n",
       "    <tr>\n",
       "      <th>8</th>\n",
       "      <td>docker</td>\n",
       "      <td>experiment_03</td>\n",
       "      <td>pqc</td>\n",
       "      <td>0.408299</td>\n",
       "      <td>0.204730</td>\n",
       "      <td>0.203722</td>\n",
       "      <td>0.498793</td>\n",
       "    </tr>\n",
       "    <tr>\n",
       "      <th>9</th>\n",
       "      <td>docker</td>\n",
       "      <td>experiment_04</td>\n",
       "      <td>classic</td>\n",
       "      <td>0.108011</td>\n",
       "      <td>0.054715</td>\n",
       "      <td>0.054384</td>\n",
       "      <td>0.503523</td>\n",
       "    </tr>\n",
       "    <tr>\n",
       "      <th>10</th>\n",
       "      <td>docker</td>\n",
       "      <td>experiment_04</td>\n",
       "      <td>hybrid</td>\n",
       "      <td>0.108844</td>\n",
       "      <td>0.055538</td>\n",
       "      <td>0.054416</td>\n",
       "      <td>0.499644</td>\n",
       "    </tr>\n",
       "    <tr>\n",
       "      <th>11</th>\n",
       "      <td>docker</td>\n",
       "      <td>experiment_04</td>\n",
       "      <td>pqc</td>\n",
       "      <td>0.108107</td>\n",
       "      <td>0.054541</td>\n",
       "      <td>0.054485</td>\n",
       "      <td>0.504372</td>\n",
       "    </tr>\n",
       "    <tr>\n",
       "      <th>12</th>\n",
       "      <td>docker</td>\n",
       "      <td>experiment_05</td>\n",
       "      <td>classic</td>\n",
       "      <td>0.066989</td>\n",
       "      <td>0.033990</td>\n",
       "      <td>0.032995</td>\n",
       "      <td>0.492711</td>\n",
       "    </tr>\n",
       "    <tr>\n",
       "      <th>13</th>\n",
       "      <td>docker</td>\n",
       "      <td>experiment_05</td>\n",
       "      <td>hybrid</td>\n",
       "      <td>0.067655</td>\n",
       "      <td>0.034601</td>\n",
       "      <td>0.032990</td>\n",
       "      <td>0.488002</td>\n",
       "    </tr>\n",
       "    <tr>\n",
       "      <th>14</th>\n",
       "      <td>docker</td>\n",
       "      <td>experiment_05</td>\n",
       "      <td>pqc</td>\n",
       "      <td>0.066997</td>\n",
       "      <td>0.033769</td>\n",
       "      <td>0.033236</td>\n",
       "      <td>0.496720</td>\n",
       "    </tr>\n",
       "    <tr>\n",
       "      <th>15</th>\n",
       "      <td>docker</td>\n",
       "      <td>experiment_06</td>\n",
       "      <td>classic</td>\n",
       "      <td>0.067018</td>\n",
       "      <td>0.033946</td>\n",
       "      <td>0.033134</td>\n",
       "      <td>0.494709</td>\n",
       "    </tr>\n",
       "    <tr>\n",
       "      <th>16</th>\n",
       "      <td>docker</td>\n",
       "      <td>experiment_06</td>\n",
       "      <td>hybrid</td>\n",
       "      <td>0.067465</td>\n",
       "      <td>0.034554</td>\n",
       "      <td>0.032855</td>\n",
       "      <td>0.487495</td>\n",
       "    </tr>\n",
       "    <tr>\n",
       "      <th>17</th>\n",
       "      <td>docker</td>\n",
       "      <td>experiment_06</td>\n",
       "      <td>pqc</td>\n",
       "      <td>0.067047</td>\n",
       "      <td>0.033886</td>\n",
       "      <td>0.033226</td>\n",
       "      <td>0.495568</td>\n",
       "    </tr>\n",
       "    <tr>\n",
       "      <th>18</th>\n",
       "      <td>native</td>\n",
       "      <td>experiment_01</td>\n",
       "      <td>classic</td>\n",
       "      <td>0.000249</td>\n",
       "      <td>0.000246</td>\n",
       "      <td>0.000020</td>\n",
       "      <td>0.075671</td>\n",
       "    </tr>\n",
       "    <tr>\n",
       "      <th>19</th>\n",
       "      <td>native</td>\n",
       "      <td>experiment_01</td>\n",
       "      <td>hybrid</td>\n",
       "      <td>0.000317</td>\n",
       "      <td>0.000313</td>\n",
       "      <td>0.000021</td>\n",
       "      <td>0.065471</td>\n",
       "    </tr>\n",
       "    <tr>\n",
       "      <th>20</th>\n",
       "      <td>native</td>\n",
       "      <td>experiment_01</td>\n",
       "      <td>pqc</td>\n",
       "      <td>0.000098</td>\n",
       "      <td>0.000051</td>\n",
       "      <td>0.000042</td>\n",
       "      <td>0.440443</td>\n",
       "    </tr>\n",
       "  </tbody>\n",
       "</table>\n",
       "</div>"
      ]
     },
     "execution_count": 6,
     "metadata": {},
     "output_type": "execute_result"
    }
   ],
   "execution_count": 6
  },
  {
   "metadata": {
    "ExecuteTime": {
     "end_time": "2025-04-10T10:06:25.751121Z",
     "start_time": "2025-04-10T10:06:20.087176Z"
    }
   },
   "cell_type": "code",
   "source": [
    "plt.figure(figsize=(8, 5))\n",
    "sns.boxplot(\n",
    "    data=df_merged,\n",
    "    x=\"mode\",\n",
    "    y=\"abs_diff\",\n",
    "    hue=\"setup\"\n",
    ")\n",
    "plt.ylabel(\"Absolute duration difference (sec)\")\n",
    "plt.title(\"Client vs. Server duration differences by mode\")\n",
    "plt.grid(axis='y')\n",
    "plt.yscale(\"log\")\n",
    "plt.tight_layout()\n",
    "plt.show()"
   ],
   "id": "ee4348971bad1494",
   "outputs": [
    {
     "data": {
      "text/plain": [
       "<Figure size 800x500 with 1 Axes>"
      ],
      "image/png": "[encoded data removed]"
     },
     "metadata": {},
     "output_type": "display_data"
    }
   ],
   "execution_count": 7
  },
  {
   "metadata": {},
   "cell_type": "markdown",
   "source": [
    "### Interpretation: Client vs. Server Duration Differences\n",
    "\n",
    "The plot above shows the absolute difference in handshake duration as measured independently by the client and the server, grouped by key exchange mode and execution environment. The Y-axis is logarithmic to reveal both small and large differences.\n",
    "\n",
    "#### Key Observations:\n",
    "\n",
    "- **Docker setup consistently shows higher client-server discrepancies** compared to the native environment.\n",
    "- The **native setup reports differences in the sub-millisecond range**, typically between `10^-4` and `10^-3` seconds.\n",
    "- In contrast, **Docker-based runs often reach 10–100 milliseconds**, with some extreme outliers in the 100+ second range (likely due to outliers, network queuing, or logging delays).\n",
    "- Across all modes (`classic`, `pqc`, `hybrid`), the **discrepancy pattern is consistent**: Docker > Native.\n",
    "\n",
    "#### Explanation:\n",
    "\n",
    "This discrepancy is likely due to the fact that **network emulation (`netem`) was applied only on the server container**, introducing artificial delay, bandwidth throttling, and packet loss:\n",
    "\n",
    "- Since the **client measures round-trip time**, any server-side delay is included in the client's `duration_sec`.\n",
    "- The **server, however, logs only its local processing time** and is unaware of any additional delay imposed on its own outbound or inbound traffic.\n",
    "- This asymmetry explains why **client durations are often significantly higher** in Docker-based experiments.\n",
    "\n",
    "#### Conclusion:\n",
    "\n",
    "While the measurements from client and server are both valuable, **client-side durations provide a more comprehensive picture** in this setup, especially when `netem` is active. For comparative analysis and visualization, we therefore focus on client-side metrics unless explicitly noted.\n"
   ],
   "id": "9481c3d6b4f7c4cd"
  },
  {
   "metadata": {},
   "cell_type": "markdown",
   "source": "## 4. Docker vs. Native Comparison\n",
   "id": "cabc304754c1be19"
  },
  {
   "metadata": {},
   "cell_type": "markdown",
   "source": [
    "This section compares the performance of key exchange (KEX) algorithms in two different execution environments: **Docker** and **native (host)**.\n",
    "\n",
    "We analyze:\n",
    "- Duration of the key exchange\n",
    "- CPU utilization\n",
    "- RAM usage\n",
    "\n",
    "### 4.1 Methodology\n",
    "\n",
    "- Only **client-side measurements** are used in this section. These provide a complete picture of the key exchange process, including any network emulation delays.\n",
    "- For each experiment we aggregate the client logs using **mean and median** statistics.\n",
    "- The metrics are visualized across both execution environments.\n",
    "\n",
    "> **Note:** Server-side metrics are excluded to ensure consistency, as `netem` was only applied to the server containers, leading to artificially skewed server-side results.\n"
   ],
   "id": "cd07db558bc21b81"
  },
  {
   "metadata": {
    "ExecuteTime": {
     "end_time": "2025-04-10T10:19:28.999967Z",
     "start_time": "2025-04-10T10:19:28.977691Z"
    }
   },
   "cell_type": "code",
   "source": [
    "# Filter for experiment_01 and client side only\n",
    "df_exp1_client = df_all[\n",
    "    (df_all[\"experiment\"] == \"experiment_01\") &\n",
    "    (df_all[\"side\"] == \"client\")\n",
    "    ].copy()\n",
    "\n",
    "df_exp1_client.groupby([\"setup\", \"mode\", \"side\"]).size().unstack()\n"
   ],
   "id": "b3a4ea14500650f8",
   "outputs": [
    {
     "data": {
      "text/plain": [
       "side            client\n",
       "setup  mode           \n",
       "docker classic    1000\n",
       "       hybrid     1000\n",
       "       pqc        1000\n",
       "native classic    1000\n",
       "       hybrid     1000\n",
       "       pqc        1000"
      ],
      "text/html": [
       "<div>\n",
       "<style scoped>\n",
       "    .dataframe tbody tr th:only-of-type {\n",
       "        vertical-align: middle;\n",
       "    }\n",
       "\n",
       "    .dataframe tbody tr th {\n",
       "        vertical-align: top;\n",
       "    }\n",
       "\n",
       "    .dataframe thead th {\n",
       "        text-align: right;\n",
       "    }\n",
       "</style>\n",
       "<table border=\"1\" class=\"dataframe\">\n",
       "  <thead>\n",
       "    <tr style=\"text-align: right;\">\n",
       "      <th></th>\n",
       "      <th>side</th>\n",
       "      <th>client</th>\n",
       "    </tr>\n",
       "    <tr>\n",
       "      <th>setup</th>\n",
       "      <th>mode</th>\n",
       "      <th></th>\n",
       "    </tr>\n",
       "  </thead>\n",
       "  <tbody>\n",
       "    <tr>\n",
       "      <th rowspan=\"3\" valign=\"top\">docker</th>\n",
       "      <th>classic</th>\n",
       "      <td>1000</td>\n",
       "    </tr>\n",
       "    <tr>\n",
       "      <th>hybrid</th>\n",
       "      <td>1000</td>\n",
       "    </tr>\n",
       "    <tr>\n",
       "      <th>pqc</th>\n",
       "      <td>1000</td>\n",
       "    </tr>\n",
       "    <tr>\n",
       "      <th rowspan=\"3\" valign=\"top\">native</th>\n",
       "      <th>classic</th>\n",
       "      <td>1000</td>\n",
       "    </tr>\n",
       "    <tr>\n",
       "      <th>hybrid</th>\n",
       "      <td>1000</td>\n",
       "    </tr>\n",
       "    <tr>\n",
       "      <th>pqc</th>\n",
       "      <td>1000</td>\n",
       "    </tr>\n",
       "  </tbody>\n",
       "</table>\n",
       "</div>"
      ]
     },
     "execution_count": 16,
     "metadata": {},
     "output_type": "execute_result"
    }
   ],
   "execution_count": 16
  },
  {
   "metadata": {},
   "cell_type": "markdown",
   "source": [
    "### 4.2 Handshake Duration\n",
    "\n",
    "In the following cell, we calculate and compare the **mean** and **median handshake durations** across the three KEX modes (`classic`, `pqc`, `hybrid`) for both Docker and Native setups.\n",
    "\n",
    "This allows us to evaluate performance consistency and identify any systematic delays introduced by containerization.\n"
   ],
   "id": "ba896f0752d9bf46"
  },
  {
   "metadata": {
    "ExecuteTime": {
     "end_time": "2025-04-10T12:03:11.600622Z",
     "start_time": "2025-04-10T12:03:11.505767Z"
    }
   },
   "cell_type": "code",
   "source": [
    "# Prepare data for seaborn (long format)\n",
    "duration_stats = df_exp1_client.groupby([\"setup\"])[\"duration_sec\"].agg([\"mean\", \"median\"]).reset_index()\n",
    "duration_stats_long = duration_stats.melt(id_vars=\"setup\", value_vars=[\"mean\", \"median\"],\n",
    "                                          var_name=\"metric\", value_name=\"duration_sec\")\n",
    "\n",
    "# Plot\n",
    "plt.figure(figsize=(8, 5))\n",
    "sns.barplot(data=duration_stats_long, x=\"metric\", y=\"duration_sec\", hue=\"setup\")\n",
    "plt.title(\"Handshake Duration (Mean & Median) – Client-side, experiment_01\")\n",
    "plt.ylabel(\"Duration (sec)\")\n",
    "plt.xlabel(\"Environment\")\n",
    "plt.grid(axis='y')\n",
    "plt.tight_layout()\n",
    "plt.show()"
   ],
   "id": "190af9157ca0770",
   "outputs": [
    {
     "data": {
      "text/plain": [
       "<Figure size 800x500 with 1 Axes>"
      ],
      "image/png": "[encoded data removed]"
     },
     "metadata": {},
     "output_type": "display_data"
    }
   ],
   "execution_count": 21
  },
  {
   "metadata": {},
   "cell_type": "markdown",
   "source": [
    "The bar chart above shows the average (mean) and median handshake durations for both the Docker and Native setups, based solely on **client-side measurements** from experiment_01. Since this experiment was conducted **without network constraints (no `netem`)**, it offers a clean baseline comparison between the two environments.\n",
    "\n",
    "#### Observations:\n",
    "\n",
    "- **Durations across both environments are very close**, with only marginal differences in both mean and median values.\n",
    "- The **Native setup is slightly faster on average**, as indicated by a lower mean duration compared to Docker.\n",
    "- Interestingly, the **median for Native is slightly higher** than for Docker, indicating the presence of some outliers in the Docker runs that increased the average.\n",
    "\n",
    "#### Interpretation:\n",
    "\n",
    "- These small discrepancies suggest that, **in the absence of artificial network constraints**, Docker introduces minimal overhead for the handshake process.\n",
    "- However, the difference in mean vs. median hints at **a slightly higher variability in Docker performance**, possibly due to container-level scheduling, I/O abstraction, or CPU allocation differences on macOS.\n",
    "- Overall, **the environments behave comparably**, confirming that Docker can serve as a valid baseline for KEX performance evaluation, especially when controlling for outliers and focusing on medians.\n",
    "\n",
    "\n",
    "\n",
    "\n",
    "\n",
    "\n"
   ],
   "id": "2f0be4037bd4c779"
  },
  {
   "metadata": {},
   "cell_type": "markdown",
   "source": [
    "### 4.3 CPU & RAM Comparison\n",
    "\n",
    "The following bar plot shows the mean duration per key exchange mode, grouped by execution environment.\n"
   ],
   "id": "22d2e7e57d6c69a6"
  },
  {
   "metadata": {},
   "cell_type": "markdown",
   "source": [
    "This section compares the system resource consumption of different Key Exchange (KEX) modes under Docker and native execution environments. Specifically, we analyze:\n",
    "\n",
    "- **CPU usage** (`cpu_percent`)\n",
    "- **RAM usage** (`ram_percent`)\n",
    "\n",
    "Both metrics were recorded on the client side during each handshake and provide insights into the computational cost of each mode in both setups.\n",
    "\n",
    "#### Methodology\n",
    "\n",
    "- We use only **client-side logs from `experiment_01`**, where no artificial network constraints were applied.\n",
    "- For each combination of environment (`docker`, `native`) we compute the **median** value of CPU and RAM usage."
   ],
   "id": "f4b2bb20e31eeeee"
  },
  {
   "metadata": {
    "ExecuteTime": {
     "end_time": "2025-04-10T13:11:48.983437Z",
     "start_time": "2025-04-10T13:11:48.968641Z"
    }
   },
   "cell_type": "code",
   "source": [
    "# Group only by setup and compute median for CPU and RAM\n",
    "resource_stats_summary = (\n",
    "    df_exp1_client\n",
    "    .groupby(\"setup\")[[\"cpu_percent\", \"ram_percent\"]]\n",
    "    .mean()\n",
    "    .reset_index()\n",
    "    .melt(id_vars=\"setup\", var_name=\"resource\", value_name=\"percent\")\n",
    ")\n",
    "resource_stats_summary"
   ],
   "id": "93dc5847aa030a85",
   "outputs": [
    {
     "data": {
      "text/plain": [
       "    setup     resource    percent\n",
       "0  docker  cpu_percent   3.858067\n",
       "1  native  cpu_percent   0.011400\n",
       "2  docker  ram_percent  10.366667\n",
       "3  native  ram_percent  73.366667"
      ],
      "text/html": [
       "<div>\n",
       "<style scoped>\n",
       "    .dataframe tbody tr th:only-of-type {\n",
       "        vertical-align: middle;\n",
       "    }\n",
       "\n",
       "    .dataframe tbody tr th {\n",
       "        vertical-align: top;\n",
       "    }\n",
       "\n",
       "    .dataframe thead th {\n",
       "        text-align: right;\n",
       "    }\n",
       "</style>\n",
       "<table border=\"1\" class=\"dataframe\">\n",
       "  <thead>\n",
       "    <tr style=\"text-align: right;\">\n",
       "      <th></th>\n",
       "      <th>setup</th>\n",
       "      <th>resource</th>\n",
       "      <th>percent</th>\n",
       "    </tr>\n",
       "  </thead>\n",
       "  <tbody>\n",
       "    <tr>\n",
       "      <th>0</th>\n",
       "      <td>docker</td>\n",
       "      <td>cpu_percent</td>\n",
       "      <td>3.858067</td>\n",
       "    </tr>\n",
       "    <tr>\n",
       "      <th>1</th>\n",
       "      <td>native</td>\n",
       "      <td>cpu_percent</td>\n",
       "      <td>0.011400</td>\n",
       "    </tr>\n",
       "    <tr>\n",
       "      <th>2</th>\n",
       "      <td>docker</td>\n",
       "      <td>ram_percent</td>\n",
       "      <td>10.366667</td>\n",
       "    </tr>\n",
       "    <tr>\n",
       "      <th>3</th>\n",
       "      <td>native</td>\n",
       "      <td>ram_percent</td>\n",
       "      <td>73.366667</td>\n",
       "    </tr>\n",
       "  </tbody>\n",
       "</table>\n",
       "</div>"
      ]
     },
     "execution_count": 29,
     "metadata": {},
     "output_type": "execute_result"
    }
   ],
   "execution_count": 29
  },
  {
   "metadata": {
    "ExecuteTime": {
     "end_time": "2025-04-10T13:13:40.553461Z",
     "start_time": "2025-04-10T13:13:40.285702Z"
    }
   },
   "cell_type": "code",
   "source": [
    "fig, axes = plt.subplots(1, 2, figsize=(14, 5), sharey=False)\n",
    "\n",
    "# Plot 1: Linear scale\n",
    "sns.barplot(data=resource_stats_summary, x=\"resource\", y=\"percent\", hue=\"setup\", palette=\"muted\", ax=axes[0])\n",
    "axes[0].set_title(\"Mean CPU & RAM Usage (Linear Scale)\")\n",
    "axes[0].set_xlabel(\"Resource Metric\")\n",
    "axes[0].set_ylabel(\"Percent Usage\")\n",
    "axes[0].legend(title=\"Environment\")\n",
    "axes[0].grid(axis=\"y\")\n",
    "\n",
    "# Plot 2: Log scale\n",
    "sns.barplot(data=resource_stats_summary, x=\"resource\", y=\"percent\", hue=\"setup\", palette=\"muted\", ax=axes[1])\n",
    "axes[1].set_title(\"Mean CPU & RAM Usage (Log Scale)\")\n",
    "axes[1].set_xlabel(\"Resource Metric\")\n",
    "axes[1].set_ylabel(\"Percent Usage (log)\")\n",
    "axes[1].set_yscale(\"log\")\n",
    "axes[1].legend(title=\"Environment\")\n",
    "axes[1].grid(axis=\"y\")\n",
    "\n",
    "plt.tight_layout()\n",
    "plt.show()"
   ],
   "id": "6796e968899439f0",
   "outputs": [
    {
     "data": {
      "text/plain": [
       "<Figure size 1400x500 with 2 Axes>"
      ],
      "image/png": "[encoded data removed]"
     },
     "metadata": {},
     "output_type": "display_data"
    }
   ],
   "execution_count": 30
  },
  {
   "metadata": {},
   "cell_type": "markdown",
   "source": [
    "#### Observations\n",
    "\n",
    "- **CPU usage** differs significantly between environments:\n",
    "  - Docker: **3.86 %**\n",
    "  - Native: **0.01 %**\n",
    "  → Docker introduces substantial CPU overhead.\n",
    "\n",
    "- **RAM usage** shows the opposite trend:\n",
    "  - Docker: **10.37 %**\n",
    "  - Native: **73.37 %**\n",
    "  → Native consumes significantly more memory.\n",
    "\n",
    "#### Interpretation\n",
    "\n",
    "Although the Docker setup consumes **more CPU** and the native environment **more RAM**, the **measured handshake performance across modes is not affected in a meaningful way**:\n",
    "\n",
    "- The **CPU load in Docker** is higher, but remains far below any threshold that would create a bottleneck or delay, especially since handshakes are brief and single-threaded.\n",
    "- The **RAM consumption in the native setup**, while high in relative terms, does not appear to impact execution time — likely because the system still has sufficient headroom, and the extra usage may be tied to background processes or memory allocation patterns unrelated to the handshake itself.\n",
    "\n",
    "Thus, the observed **performance differences between KEX modes (classic, hybrid, pqc)** are **comparable and valid across environments**.\n",
    "\n",
    "> **Conclusion**: While absolute resource usage varies strongly between Docker and native setups, **this has no practical impact on the relative results of the experiments**. The comparisons between key exchange modes remain valid, regardless of execution environment.\n",
    "\n",
    "#### Docker as the Preferred Environment\n",
    "\n",
    "All experiments were executed in the **Docker environment** — intentionally and with good reason:\n",
    "\n",
    "- **Reproducibility**: Docker provides a clean, isolated, and version-controlled environment, ensuring experiments can be reliably repeated on other machines or in the future.\n",
    "- **Environment consistency**: No variation in software versions, system libraries, or dependencies, which could affect handshake behavior.\n",
    "- **Scalability**: Multiple containers can be deployed in parallel for batch testing or simulations.\n",
    "- **Portability**: The setup is easily shareable and runnable across Linux, macOS, and Windows.\n",
    "\n",
    "Despite the **higher CPU usage**, Docker does **not compromise the validity or fairness** of the experimental results:\n",
    "\n",
    "> **Conclusion**: The use of Docker introduces practical advantages without reducing the accuracy, comparability, or validity of the performance measurements. The results remain fully interpretable and meaningful across all KEX modes.\n"
   ],
   "id": "4bd15fc66a133458"
  },
  {
   "metadata": {},
   "cell_type": "code",
   "outputs": [],
   "execution_count": null,
   "source": "",
   "id": "31220744c8784d3c"
  }
 ],
 "metadata": {
  "kernelspec": {
   "name": "python3",
   "language": "python",
   "display_name": "Python 3 (ipykernel)"
  }
 },
 "nbformat": 5,
 "nbformat_minor": 9
}
