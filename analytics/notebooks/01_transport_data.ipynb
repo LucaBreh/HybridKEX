{
 "cells": [
  {
   "metadata": {},
   "cell_type": "markdown",
   "source": [
    "# 01 Transport & Parse Data\n",
    "This notebook contains code to parse data from experiment set-up to analytics section."
   ],
   "id": "ef9adda158005d3e"
  },
  {
   "metadata": {
    "ExecuteTime": {
     "end_time": "2025-04-08T12:25:56.140171Z",
     "start_time": "2025-04-08T12:25:56.138909Z"
    }
   },
   "cell_type": "code",
   "source": [
    "import shutil\n",
    "from pathlib import Path"
   ],
   "id": "3c08ac1da682f21d",
   "outputs": [],
   "execution_count": 1
  },
  {
   "metadata": {},
   "cell_type": "code",
   "outputs": [],
   "execution_count": null,
   "source": [
    "def transport_logs(experiment_name):\n",
    "    source_native = Path(\"../../kex-native/logs\")\n",
    "    source_docker = Path(\"../../kex-docker/logs\")\n",
    "\n",
    "    target_native = Path(\"../data/native\") / experiment_name\n",
    "    target_docker = Path(\"../data/docker\") / experiment_name\n",
    "\n",
    "    target_native.mkdir(parents=True, exist_ok=True)\n",
    "    target_docker.mkdir(parents=True, exist_ok=True)\n",
    "\n",
    "    if source_native.exists():\n",
    "        shutil.copytree(source_native, target_native, dirs_exist_ok=True)\n",
    "        print(f\"Native logs copied to {target_native}\")\n",
    "    else:\n",
    "        print(f\"Source not found: {source_native}\")\n",
    "\n",
    "    if source_docker.exists():\n",
    "        shutil.copytree(source_docker, target_docker, dirs_exist_ok=True)\n",
    "        print(f\"Docker logs copied to {target_docker}\")\n",
    "    else:\n",
    "        print(f\"Source not found: {source_docker}\")"
   ],
   "id": "cc1a792e2cae5ea4"
  },
  {
   "metadata": {},
   "cell_type": "code",
   "outputs": [],
   "execution_count": null,
   "source": "transport_logs(\"experiment_01\")",
   "id": "3527943ad2288b50"
  }
 ],
 "metadata": {
  "kernelspec": {
   "name": "python3",
   "language": "python",
   "display_name": "Python 3 (ipykernel)"
  }
 },
 "nbformat": 5,
 "nbformat_minor": 9
}
