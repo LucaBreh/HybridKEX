{
 "cells": [
  {
   "metadata": {},
   "cell_type": "markdown",
   "source": [
    "# 01 Transport Data\n",
    "This notebook contains code to parse data from experiment set-up to analytics section."
   ],
   "id": "ef9adda158005d3e"
  },
  {
   "metadata": {
    "ExecuteTime": {
     "end_time": "2025-04-11T10:17:43.836803Z",
     "start_time": "2025-04-11T10:17:43.835430Z"
    }
   },
   "cell_type": "code",
   "source": [
    "import shutil\n",
    "from pathlib import Path\n",
    "import pandas as pd\n",
    "from IPython.display import display, HTML"
   ],
   "id": "3c08ac1da682f21d",
   "outputs": [],
   "execution_count": 1
  },
  {
   "metadata": {
    "ExecuteTime": {
     "end_time": "2025-04-11T12:11:54.193466Z",
     "start_time": "2025-04-11T12:11:54.185633Z"
    }
   },
   "cell_type": "code",
   "source": "experiment_name = \"experiment_06\"",
   "id": "51839ad01b25d76f",
   "outputs": [],
   "execution_count": 5
  },
  {
   "metadata": {
    "ExecuteTime": {
     "end_time": "2025-04-11T12:11:55.411683Z",
     "start_time": "2025-04-11T12:11:55.404472Z"
    }
   },
   "cell_type": "code",
   "source": [
    "def transport_logs(experiment_name, only_docker=True):\n",
    "    source_native = Path(\"../../kex-native/logs\")\n",
    "    source_docker = Path(\"../../kex-docker/logs\")\n",
    "\n",
    "    target_native = Path(\"../data/native\") / experiment_name\n",
    "    target_docker = Path(\"../data/docker\") / experiment_name\n",
    "\n",
    "    if not only_docker:\n",
    "        target_native.mkdir(parents=True, exist_ok=True)\n",
    "    target_docker.mkdir(parents=True, exist_ok=True)\n",
    "\n",
    "    if not only_docker:\n",
    "        if source_native.exists():\n",
    "            shutil.copytree(source_native, target_native, dirs_exist_ok=True)\n",
    "            print(f\"Native logs copied to {target_native}\")\n",
    "        else:\n",
    "            print(f\"Source not found: {source_native}\")\n",
    "\n",
    "    if source_docker.exists():\n",
    "        shutil.copytree(source_docker, target_docker, dirs_exist_ok=True)\n",
    "        print(f\"Docker logs copied to {target_docker}\")\n",
    "    else:\n",
    "        print(f\"Source not found: {source_docker}\")\n",
    "\n"
   ],
   "id": "cc1a792e2cae5ea4",
   "outputs": [],
   "execution_count": 6
  },
  {
   "metadata": {
    "ExecuteTime": {
     "end_time": "2025-04-11T12:12:00.639720Z",
     "start_time": "2025-04-11T12:12:00.597901Z"
    }
   },
   "cell_type": "code",
   "source": "transport_logs(experiment_name)",
   "id": "3527943ad2288b50",
   "outputs": [
    {
     "name": "stdout",
     "output_type": "stream",
     "text": [
      "Docker logs copied to ../data/docker/experiment_06\n"
     ]
    }
   ],
   "execution_count": 7
  },
  {
   "metadata": {},
   "cell_type": "markdown",
   "source": "Data preview",
   "id": "26ffb0693e0119e1"
  },
  {
   "metadata": {
    "ExecuteTime": {
     "end_time": "2025-04-09T10:14:18.380422Z",
     "start_time": "2025-04-09T10:14:18.367673Z"
    }
   },
   "cell_type": "code",
   "source": [
    "def preview_data(experiment_name, side = \"client\", only_docker=True):\n",
    "    if not only_docker:\n",
    "        base_native = Path(\"../data/native\") / experiment_name\n",
    "    base_docker = Path(\"../data/docker\") / experiment_name\n",
    "    modes = [\"classic\", \"pqc\", \"hybrid\"]\n",
    "    metrics = [\"duration_sec\", \"cpu_percent\", \"ram_percent\"]\n",
    "\n",
    "    if side == \"client\":\n",
    "        csv_name = \"client_log.csv\"\n",
    "    elif side == \"server\":\n",
    "        csv_name = \"server_log.csv\"\n",
    "    else:\n",
    "        raise ValueError(\"side must be 'client' or 'server'\")\n",
    "\n",
    "    def aggregate(path, agg_func, csv_name):\n",
    "        rows = []\n",
    "        for mode in modes:\n",
    "            file_path = path / mode / csv_name\n",
    "            if file_path.exists():\n",
    "                df = pd.read_csv(file_path)\n",
    "                if not df.empty:\n",
    "                    values = df[metrics].agg(agg_func)\n",
    "                    rows.append(values)\n",
    "                else:\n",
    "                    rows.append(pd.Series({k: None for k in metrics}))\n",
    "            else:\n",
    "                rows.append(pd.Series({k: None for k in metrics}))\n",
    "        result_df = pd.DataFrame(rows, index=modes)\n",
    "        return result_df\n",
    "\n",
    "    if not only_docker:\n",
    "        native_mean = aggregate(base_native, \"mean\", csv_name)\n",
    "        native_median = aggregate(base_native, \"median\", csv_name)\n",
    "    docker_mean = aggregate(base_docker, \"mean\", csv_name)\n",
    "    docker_median = aggregate(base_docker, \"median\", csv_name)\n",
    "\n",
    "    html_parts = [\"<div style='display: flex; flex-wrap: wrap; gap: 40px;'>\"]\n",
    "\n",
    "    if not only_docker:\n",
    "        html_parts.append(f\"\"\"\n",
    "            <div>\n",
    "                <h4>Native – Mean</h4>\n",
    "                {native_mean.to_html()}\n",
    "            </div>\n",
    "            <div>\n",
    "                <h4>Native – Median</h4>\n",
    "                {native_median.to_html()}\n",
    "            </div>\n",
    "        \"\"\")\n",
    "\n",
    "    html_parts.append(f\"\"\"\n",
    "        <div>\n",
    "            <h4>Docker – Mean</h4>\n",
    "            {docker_mean.to_html()}\n",
    "        </div>\n",
    "        <div>\n",
    "            <h4>Docker – Median</h4>\n",
    "            {docker_median.to_html()}\n",
    "        </div>\n",
    "    </div>\n",
    "    \"\"\")\n",
    "\n",
    "    display(HTML(\"\".join(html_parts)))\n"
   ],
   "id": "a89c06377d120738",
   "outputs": [],
   "execution_count": 8
  },
  {
   "metadata": {
    "ExecuteTime": {
     "end_time": "2025-04-09T10:14:19.963258Z",
     "start_time": "2025-04-09T10:14:19.937897Z"
    }
   },
   "cell_type": "code",
   "source": "preview_data(experiment_name, side=\"client\")",
   "id": "e42db313cf0a8f23",
   "outputs": [
    {
     "data": {
      "text/plain": [
       "<IPython.core.display.HTML object>"
      ],
      "text/html": [
       "<div style='display: flex; flex-wrap: wrap; gap: 40px;'>\n",
       "        <div>\n",
       "            <h4>Docker – Mean</h4>\n",
       "            <table border=\"1\" class=\"dataframe\">\n",
       "  <thead>\n",
       "    <tr style=\"text-align: right;\">\n",
       "      <th></th>\n",
       "      <th>duration_sec</th>\n",
       "      <th>cpu_percent</th>\n",
       "      <th>ram_percent</th>\n",
       "    </tr>\n",
       "  </thead>\n",
       "  <tbody>\n",
       "    <tr>\n",
       "      <th>classic</th>\n",
       "      <td>0.344465</td>\n",
       "      <td>0.2700</td>\n",
       "      <td>8.7179</td>\n",
       "    </tr>\n",
       "    <tr>\n",
       "      <th>pqc</th>\n",
       "      <td>0.365732</td>\n",
       "      <td>0.2752</td>\n",
       "      <td>8.7665</td>\n",
       "    </tr>\n",
       "    <tr>\n",
       "      <th>hybrid</th>\n",
       "      <td>0.353026</td>\n",
       "      <td>0.2881</td>\n",
       "      <td>9.2408</td>\n",
       "    </tr>\n",
       "  </tbody>\n",
       "</table>\n",
       "        </div>\n",
       "        <div>\n",
       "            <h4>Docker – Median</h4>\n",
       "            <table border=\"1\" class=\"dataframe\">\n",
       "  <thead>\n",
       "    <tr style=\"text-align: right;\">\n",
       "      <th></th>\n",
       "      <th>duration_sec</th>\n",
       "      <th>cpu_percent</th>\n",
       "      <th>ram_percent</th>\n",
       "    </tr>\n",
       "  </thead>\n",
       "  <tbody>\n",
       "    <tr>\n",
       "      <th>classic</th>\n",
       "      <td>0.308173</td>\n",
       "      <td>0.3</td>\n",
       "      <td>8.7</td>\n",
       "    </tr>\n",
       "    <tr>\n",
       "      <th>pqc</th>\n",
       "      <td>0.308534</td>\n",
       "      <td>0.3</td>\n",
       "      <td>8.8</td>\n",
       "    </tr>\n",
       "    <tr>\n",
       "      <th>hybrid</th>\n",
       "      <td>0.308863</td>\n",
       "      <td>0.3</td>\n",
       "      <td>9.2</td>\n",
       "    </tr>\n",
       "  </tbody>\n",
       "</table>\n",
       "        </div>\n",
       "    </div>\n",
       "    "
      ]
     },
     "metadata": {},
     "output_type": "display_data"
    }
   ],
   "execution_count": 9
  },
  {
   "metadata": {
    "ExecuteTime": {
     "end_time": "2025-04-09T10:14:27.619906Z",
     "start_time": "2025-04-09T10:14:27.591035Z"
    }
   },
   "cell_type": "code",
   "source": "preview_data(experiment_name, side=\"server\")",
   "id": "9ad1bedec7d440e9",
   "outputs": [
    {
     "data": {
      "text/plain": [
       "<IPython.core.display.HTML object>"
      ],
      "text/html": [
       "<div style='display: flex; flex-wrap: wrap; gap: 40px;'>\n",
       "        <div>\n",
       "            <h4>Docker – Mean</h4>\n",
       "            <table border=\"1\" class=\"dataframe\">\n",
       "  <thead>\n",
       "    <tr style=\"text-align: right;\">\n",
       "      <th></th>\n",
       "      <th>duration_sec</th>\n",
       "      <th>cpu_percent</th>\n",
       "      <th>ram_percent</th>\n",
       "    </tr>\n",
       "  </thead>\n",
       "  <tbody>\n",
       "    <tr>\n",
       "      <th>classic</th>\n",
       "      <td>0.167796</td>\n",
       "      <td>0.2729</td>\n",
       "      <td>8.7179</td>\n",
       "    </tr>\n",
       "    <tr>\n",
       "      <th>pqc</th>\n",
       "      <td>0.169247</td>\n",
       "      <td>0.2783</td>\n",
       "      <td>8.7665</td>\n",
       "    </tr>\n",
       "    <tr>\n",
       "      <th>hybrid</th>\n",
       "      <td>0.170687</td>\n",
       "      <td>0.2919</td>\n",
       "      <td>9.2408</td>\n",
       "    </tr>\n",
       "  </tbody>\n",
       "</table>\n",
       "        </div>\n",
       "        <div>\n",
       "            <h4>Docker – Median</h4>\n",
       "            <table border=\"1\" class=\"dataframe\">\n",
       "  <thead>\n",
       "    <tr style=\"text-align: right;\">\n",
       "      <th></th>\n",
       "      <th>duration_sec</th>\n",
       "      <th>cpu_percent</th>\n",
       "      <th>ram_percent</th>\n",
       "    </tr>\n",
       "  </thead>\n",
       "  <tbody>\n",
       "    <tr>\n",
       "      <th>classic</th>\n",
       "      <td>0.154506</td>\n",
       "      <td>0.3</td>\n",
       "      <td>8.7</td>\n",
       "    </tr>\n",
       "    <tr>\n",
       "      <th>pqc</th>\n",
       "      <td>0.154600</td>\n",
       "      <td>0.3</td>\n",
       "      <td>8.8</td>\n",
       "    </tr>\n",
       "    <tr>\n",
       "      <th>hybrid</th>\n",
       "      <td>0.155509</td>\n",
       "      <td>0.3</td>\n",
       "      <td>9.2</td>\n",
       "    </tr>\n",
       "  </tbody>\n",
       "</table>\n",
       "        </div>\n",
       "    </div>\n",
       "    "
      ]
     },
     "metadata": {},
     "output_type": "display_data"
    }
   ],
   "execution_count": 10
  },
  {
   "metadata": {},
   "cell_type": "code",
   "outputs": [],
   "execution_count": null,
   "source": "",
   "id": "3692e74459a7ea03"
  }
 ],
 "metadata": {
  "kernelspec": {
   "name": "python3",
   "language": "python",
   "display_name": "Python 3 (ipykernel)"
  }
 },
 "nbformat": 5,
 "nbformat_minor": 9
}
