{
 "cells": [
  {
   "metadata": {
    "ExecuteTime": {
     "end_time": "2025-04-18T09:11:54.587435Z",
     "start_time": "2025-04-18T09:11:54.584098Z"
    }
   },
   "cell_type": "code",
   "source": [
    "import pandas as pd\n",
    "import numpy as np"
   ],
   "id": "4838de15f4fb83eb",
   "outputs": [],
   "execution_count": 3
  },
  {
   "metadata": {
    "ExecuteTime": {
     "end_time": "2025-04-18T09:10:47.757764Z",
     "start_time": "2025-04-18T09:10:47.661922Z"
    }
   },
   "cell_type": "code",
   "source": "df_all = pd.read_csv('../data/all_measurements.csv')",
   "id": "56190e098f3d93a7",
   "outputs": [],
   "execution_count": 2
  },
  {
   "metadata": {},
   "cell_type": "markdown",
   "source": "# Experiment 01",
   "id": "4c0b71e32b27f06a"
  },
  {
   "metadata": {
    "ExecuteTime": {
     "end_time": "2025-04-18T09:13:35.813596Z",
     "start_time": "2025-04-18T09:13:35.809873Z"
    }
   },
   "cell_type": "code",
   "source": [
    "def boxplot_stats(series):\n",
    "    q1 = np.percentile(series, 25)\n",
    "    q3 = np.percentile(series, 75)\n",
    "    median = np.median(series)\n",
    "    iqr = q3 - q1\n",
    "    lower_whisker = max(series[series >= q1 - 1.5 * iqr].min(), series.min())\n",
    "    upper_whisker = min(series[series <= q3 + 1.5 * iqr].max(), series.max())\n",
    "    return lower_whisker, q1, median, q3, upper_whisker"
   ],
   "id": "6d14a0ba0e1e649f",
   "outputs": [],
   "execution_count": 4
  },
  {
   "metadata": {
    "ExecuteTime": {
     "end_time": "2025-04-18T09:14:32.095360Z",
     "start_time": "2025-04-18T09:14:32.083729Z"
    }
   },
   "cell_type": "code",
   "source": [
    "df_exp1_client = df_all[\n",
    "    (df_all[\"experiment\"] == \"experiment_01\") &\n",
    "    (df_all[\"side\"] == \"client\")\n",
    "    ].copy()"
   ],
   "id": "6a6987e4eaec19a2",
   "outputs": [],
   "execution_count": 5
  },
  {
   "metadata": {
    "ExecuteTime": {
     "end_time": "2025-04-18T09:14:35.673608Z",
     "start_time": "2025-04-18T09:14:35.670607Z"
    }
   },
   "cell_type": "code",
   "source": "modes = df_exp1_client['mode'].unique()",
   "id": "f3b4a22ec7f339dc",
   "outputs": [],
   "execution_count": 6
  },
  {
   "metadata": {
    "ExecuteTime": {
     "end_time": "2025-04-18T09:14:49.408608Z",
     "start_time": "2025-04-18T09:14:49.404797Z"
    }
   },
   "cell_type": "code",
   "source": "colors = [\"blue!20\", \"orange!20\", \"green!20\"]",
   "id": "9ae40d0b6486f69b",
   "outputs": [],
   "execution_count": 7
  },
  {
   "metadata": {
    "ExecuteTime": {
     "end_time": "2025-04-18T09:16:32.538498Z",
     "start_time": "2025-04-18T09:16:32.522753Z"
    }
   },
   "cell_type": "code",
   "source": [
    "print(r\"\\begin{axis}[\")\n",
    "print(r\"  boxplot/draw direction=y,\")\n",
    "print(r\"  ylabel={Handshake Duration (s)},\")\n",
    "print(r\"  xlabel={Key Exchange Mode},\")\n",
    "print(r\"  xtick={1,2,3},\")\n",
    "print(r\"  xticklabels={Classic, PQC, Hybrid},\")\n",
    "print(r\"  ymode=log,\")\n",
    "print(r\"  width=0.85\\linewidth,\")\n",
    "print(r\"  height=7cm,\")\n",
    "print(r\"  grid=major\")\n",
    "print(r\"]\")\n",
    "\n",
    "for idx, mode in enumerate(modes, start=1):\n",
    "    durations = df_exp1_client[df_exp1_client['mode'] == mode]['duration_sec']\n",
    "    lw, q1, med, q3, uw = boxplot_stats(durations)\n",
    "    print(rf\"\\addplot+[\" + \"\\n\"\n",
    "          rf\"  boxplot prepared={{\" + \"\\n\"\n",
    "          rf\"    lower whisker={lw:.6f},\" + \"\\n\"\n",
    "          rf\"    lower quartile={q1:.6f},\" + \"\\n\"\n",
    "          rf\"    median={med:.6f},\" + \"\\n\"\n",
    "          rf\"    upper quartile={q3:.6f},\" + \"\\n\"\n",
    "          rf\"    upper whisker={uw:.6f}\" + \"\\n\"\n",
    "          rf\"  }},\" + \"\\n\"\n",
    "          rf\"  fill={colors[idx-1]}\" + \"\\n\"\n",
    "          rf\"] coordinates {{}};\")\n",
    "\n",
    "print(r\"\\end{axis}\")\n"
   ],
   "id": "6b6e578dbaabd34d",
   "outputs": [
    {
     "name": "stdout",
     "output_type": "stream",
     "text": [
      "\\begin{axis}[\n",
      "  boxplot/draw direction=y,\n",
      "  ylabel={Handshake Duration (s)},\n",
      "  xlabel={Key Exchange Mode},\n",
      "  xtick={1,2,3},\n",
      "  xticklabels={Classic, PQC, Hybrid},\n",
      "  ymode=log,\n",
      "  width=0.85\\linewidth,\n",
      "  height=7cm,\n",
      "  grid=major\n",
      "]\n",
      "\\addplot+[\n",
      "  boxplot prepared={\n",
      "    lower whisker=0.000162,\n",
      "    lower quartile=0.000226,\n",
      "    median=0.000245,\n",
      "    upper quartile=0.000268,\n",
      "    upper whisker=0.000331\n",
      "  },\n",
      "  fill=blue!20\n",
      "] coordinates {};\n",
      "\\addplot+[\n",
      "  boxplot prepared={\n",
      "    lower whisker=0.000066,\n",
      "    lower quartile=0.000098,\n",
      "    median=0.000155,\n",
      "    upper quartile=0.000206,\n",
      "    upper whisker=0.000360\n",
      "  },\n",
      "  fill=orange!20\n",
      "] coordinates {};\n",
      "\\addplot+[\n",
      "  boxplot prepared={\n",
      "    lower whisker=0.000223,\n",
      "    lower quartile=0.000283,\n",
      "    median=0.000304,\n",
      "    upper quartile=0.000324,\n",
      "    upper whisker=0.000386\n",
      "  },\n",
      "  fill=green!20\n",
      "] coordinates {};\n",
      "\\end{axis}\n"
     ]
    }
   ],
   "execution_count": 13
  },
  {
   "metadata": {
    "ExecuteTime": {
     "end_time": "2025-04-18T09:38:39.796171Z",
     "start_time": "2025-04-18T09:38:39.785898Z"
    }
   },
   "cell_type": "code",
   "source": [
    "# Filter z. B. nur classic\n",
    "df_classic = df_exp1_client[df_exp1_client['mode'] == 'hybrid']\n",
    "durations = df_classic['duration_sec']\n",
    "\n",
    "# IQR-Logik\n",
    "q1 = np.percentile(durations, 25)\n",
    "q3 = np.percentile(durations, 75)\n",
    "iqr = q3 - q1\n",
    "lw = max(durations[durations >= q1 - 1.5 * iqr].min(), durations.min())\n",
    "uw = min(durations[durations <= q3 + 1.5 * iqr].max(), durations.max())\n",
    "\n",
    "# ➤ Nur die Ausreißer:\n",
    "outliers = durations[(durations < lw) | (durations > uw)]\n",
    "\n",
    "# Für pgfplots vorbereiten\n",
    "for val in outliers:\n",
    "    print(f\"(1,{val:.6f})\")"
   ],
   "id": "929f8a1a8bd6b07b",
   "outputs": [
    {
     "name": "stdout",
     "output_type": "stream",
     "text": [
      "(1,0.001789)\n",
      "(1,0.000456)\n",
      "(1,0.000507)\n",
      "(1,0.000395)\n",
      "(1,0.000400)\n",
      "(1,0.000449)\n",
      "(1,0.000490)\n",
      "(1,0.000428)\n",
      "(1,0.000609)\n",
      "(1,0.000583)\n",
      "(1,0.000488)\n",
      "(1,0.000429)\n",
      "(1,0.000411)\n",
      "(1,0.000411)\n",
      "(1,0.000428)\n",
      "(1,0.000396)\n",
      "(1,0.000391)\n",
      "(1,0.000388)\n",
      "(1,0.000407)\n",
      "(1,0.000414)\n",
      "(1,0.000415)\n",
      "(1,0.000565)\n",
      "(1,0.000390)\n",
      "(1,0.000451)\n",
      "(1,0.000388)\n",
      "(1,0.000396)\n",
      "(1,0.000392)\n",
      "(1,0.000412)\n",
      "(1,0.000400)\n",
      "(1,0.000449)\n",
      "(1,0.000444)\n",
      "(1,0.000571)\n",
      "(1,0.001170)\n",
      "(1,0.000552)\n",
      "(1,0.000432)\n",
      "(1,0.000422)\n",
      "(1,0.000428)\n",
      "(1,0.000388)\n",
      "(1,0.000406)\n",
      "(1,0.000408)\n",
      "(1,0.000442)\n",
      "(1,0.000405)\n",
      "(1,0.000397)\n",
      "(1,0.000388)\n",
      "(1,0.000415)\n",
      "(1,0.000415)\n",
      "(1,0.000404)\n",
      "(1,0.000392)\n",
      "(1,0.000398)\n",
      "(1,0.000416)\n",
      "(1,0.000408)\n",
      "(1,0.000399)\n",
      "(1,0.000386)\n",
      "(1,0.000411)\n",
      "(1,0.000401)\n",
      "(1,0.000399)\n",
      "(1,0.000403)\n",
      "(1,0.000391)\n",
      "(1,0.000395)\n",
      "(1,0.000406)\n",
      "(1,0.000404)\n",
      "(1,0.000391)\n",
      "(1,0.000389)\n",
      "(1,0.000416)\n",
      "(1,0.000409)\n",
      "(1,0.000407)\n",
      "(1,0.000413)\n",
      "(1,0.000396)\n",
      "(1,0.000399)\n",
      "(1,0.000387)\n",
      "(1,0.000394)\n",
      "(1,0.000394)\n",
      "(1,0.000451)\n",
      "(1,0.000396)\n",
      "(1,0.000388)\n",
      "(1,0.000406)\n",
      "(1,0.000396)\n",
      "(1,0.000392)\n",
      "(1,0.000412)\n",
      "(1,0.010537)\n",
      "(1,0.000441)\n",
      "(1,0.000416)\n",
      "(1,0.000425)\n",
      "(1,0.000411)\n",
      "(1,0.000427)\n",
      "(1,0.000394)\n",
      "(1,0.000506)\n",
      "(1,0.000402)\n",
      "(1,0.000386)\n",
      "(1,0.000547)\n",
      "(1,0.000462)\n",
      "(1,0.000387)\n",
      "(1,0.000386)\n",
      "(1,0.000412)\n",
      "(1,0.000396)\n",
      "(1,0.000410)\n",
      "(1,0.000388)\n",
      "(1,0.000416)\n",
      "(1,0.000395)\n",
      "(1,0.000394)\n",
      "(1,0.000424)\n",
      "(1,0.000401)\n",
      "(1,0.000421)\n",
      "(1,0.000404)\n",
      "(1,0.000418)\n"
     ]
    }
   ],
   "execution_count": 19
  },
  {
   "metadata": {},
   "cell_type": "code",
   "outputs": [],
   "execution_count": null,
   "source": "",
   "id": "a902db462f96f663"
  }
 ],
 "metadata": {
  "kernelspec": {
   "name": "python3",
   "language": "python",
   "display_name": "Python 3 (ipykernel)"
  }
 },
 "nbformat": 5,
 "nbformat_minor": 9
}
