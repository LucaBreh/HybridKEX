{
 "cells": [
  {
   "cell_type": "markdown",
   "id": "bd80962e",
   "metadata": {},
   "source": [
    "# First simple tests"
   ]
  },
  {
   "cell_type": "markdown",
   "id": "204576e6",
   "metadata": {},
   "source": [
    "## Minimum Example ECDH (without network protocol)"
   ]
  },
  {
   "cell_type": "markdown",
   "id": "8f86d530",
   "metadata": {},
   "source": [
    "### Keygen Alice"
   ]
  },
  {
   "cell_type": "code",
   "id": "58187389",
   "metadata": {
    "ExecuteTime": {
     "end_time": "2025-03-20T10:22:58.273280Z",
     "start_time": "2025-03-20T10:22:58.210965Z"
    }
   },
   "source": [
    "import nacl.public\n",
    "import time\n",
    "\n",
    "#start timer Alice\n",
    "start = time.time()\n",
    "\n",
    "#Alice generates private key\n",
    "alice_private = nacl.public.PrivateKey.generate()\n",
    "\n",
    "#Alice generates public key\n",
    "alice_public = alice_private.public_key\n",
    "\n",
    "end = time.time()\n",
    "\n",
    "time_key_gen_alice = end - start\n",
    "\n",
    "\n",
    "print(\"-\"*100)\n",
    "print(\"Alice generates private key: \" + alice_private.encode().hex())\n",
    "print(\"-\"*100)\n",
    "print(\"Alice generates public key: \" + alice_public.encode().hex())\n",
    "print(\"-\"*100)\n",
    "print(f\"Generation key Alice: {time_key_gen_alice:.6f} seconds\")\n",
    "print(\"-\"*100)"
   ],
   "outputs": [
    {
     "name": "stdout",
     "output_type": "stream",
     "text": [
      "----------------------------------------------------------------------------------------------------\n",
      "Alice generates private key: 190c27f1ad5b7c2e687c753ac75d144035e401a9e7d06188a38c58113dee224d\n",
      "----------------------------------------------------------------------------------------------------\n",
      "Alice generates public key: c82ea888d101dba4d66aaa59c34ff9ddc73fdcf188735d3612a15e1199ff6b53\n",
      "----------------------------------------------------------------------------------------------------\n",
      "Generation key Alice: 0.000303 seconds\n",
      "----------------------------------------------------------------------------------------------------\n"
     ]
    }
   ],
   "execution_count": 2
  },
  {
   "cell_type": "markdown",
   "id": "3b8422ad",
   "metadata": {},
   "source": [
    "### Keygen Bob"
   ]
  },
  {
   "cell_type": "code",
   "execution_count": 28,
   "id": "569b1335",
   "metadata": {},
   "outputs": [
    {
     "name": "stdout",
     "output_type": "stream",
     "text": [
      "----------------------------------------------------------------------------------------------------\n",
      "Bob generates private key: 3f447c746ef4a69a6b627791901bb58fc61677ee760e8bae66cc35ad8dccf68e\n",
      "----------------------------------------------------------------------------------------------------\n",
      "Bob generates public key: f9b4830ab00885c5c4f1129a064c3aaef53578630dbf49e01b07594e9ce9493e\n",
      "----------------------------------------------------------------------------------------------------\n",
      "Generation key Bob: 0.000783 seconds\n",
      "----------------------------------------------------------------------------------------------------\n"
     ]
    }
   ],
   "source": [
    "start = time.time()\n",
    "\n",
    "bob_private = nacl.public.PrivateKey.generate()\n",
    "bob_public = bob_private.public_key\n",
    "\n",
    "end = time.time()\n",
    "\n",
    "time_key_gen_bob = end - start\n",
    "\n",
    "print(\"-\"*100)\n",
    "print(\"Bob generates private key: \" + bob_private.encode().hex())\n",
    "print(\"-\"*100)\n",
    "print(\"Bob generates public key: \" + bob_public.encode().hex())\n",
    "print(\"-\"*100)\n",
    "print(f\"Generation key Bob: {time_key_gen_bob:.6f} seconds\")\n",
    "print(\"-\"*100)"
   ]
  },
  {
   "cell_type": "markdown",
   "id": "ea50c045",
   "metadata": {},
   "source": [
    "### Calc shared secret"
   ]
  },
  {
   "cell_type": "code",
   "execution_count": 32,
   "id": "7041be39",
   "metadata": {},
   "outputs": [
    {
     "name": "stdout",
     "output_type": "stream",
     "text": [
      "----------------------------------------------------------------------------------------------------\n",
      "Key exchange: 0.001988 seconds\n",
      "----------------------------------------------------------------------------------------------------\n",
      "Shared Secret: 9799e9e11d376d45577ed578b28c715635bb097a2e97841b481b2452d9ddd041\n",
      "----------------------------------------------------------------------------------------------------\n"
     ]
    }
   ],
   "source": [
    "start = time.time()\n",
    "\n",
    "# Calc shared secrets\n",
    "alice_box = nacl.public.Box(alice_private, bob_public)\n",
    "bob_box = nacl.public.Box(bob_private, alice_public)\n",
    "\n",
    "shared_secret_alice = alice_box.shared_key()\n",
    "shared_secret_bob = bob_box.shared_key()\n",
    "\n",
    "end = time.time()\n",
    "time_shared_secret = end - start\n",
    "\n",
    "print(\"-\" * 100)\n",
    "print(f\"Key exchange: {time_shared_secret:.6f} seconds\")\n",
    "print(\"-\" * 100)\n",
    "\n",
    "# Verify that both shared secrets are identical\n",
    "assert shared_secret_alice == shared_secret_bob, \"Key exchange failed: Secrets do not match!\"\n",
    "print(f\"Shared Secret: {shared_secret_alice.hex()}\")\n",
    "print(\"-\" * 100)"
   ]
  },
  {
   "cell_type": "markdown",
   "id": "01fc4189",
   "metadata": {},
   "source": [
    "## Compute Total Time"
   ]
  },
  {
   "cell_type": "code",
   "execution_count": 31,
   "id": "faafb5cc",
   "metadata": {},
   "outputs": [
    {
     "name": "stdout",
     "output_type": "stream",
     "text": [
      "----------------------------------------------------------------------------------------------------\n",
      "Total time: 0.0029571056365966797 seconds\n",
      "----------------------------------------------------------------------------------------------------\n"
     ]
    }
   ],
   "source": [
    "time_total_ecdh = time_key_gen_alice + time_key_gen_bob + time_shared_secret\n",
    "print(\"-\" * 100)\n",
    "print(\"Total time: \" + str(time_total_ecdh) + \" seconds\")\n",
    "print(\"-\" *100)"
   ]
  },
  {
   "cell_type": "markdown",
   "id": "767cf9d7",
   "metadata": {},
   "source": [
    "## Kyber Minimum Example"
   ]
  },
  {
   "cell_type": "code",
   "execution_count": 8,
   "id": "5e800c8d",
   "metadata": {},
   "outputs": [],
   "source": [
    "import oqs\n",
    "import time"
   ]
  },
  {
   "cell_type": "markdown",
   "id": "b5f97a7a",
   "metadata": {},
   "source": [
    "### Generate Key Pair"
   ]
  },
  {
   "cell_type": "code",
   "execution_count": 9,
   "id": "9c4a30a2",
   "metadata": {},
   "outputs": [
    {
     "name": "stdout",
     "output_type": "stream",
     "text": [
      "----------------------------------------------------------------------------------------------------\n",
      "Time Key Pair: 0.015543937683105469 seconds\n",
      "----------------------------------------------------------------------------------------------------\n"
     ]
    }
   ],
   "source": [
    "kem = oqs.KeyEncapsulation('Kyber768')\n",
    "\n",
    "start = time.time()\n",
    "public_key = kem.generate_keypair()\n",
    "end = time.time()\n",
    "\n",
    "time_kyber_keypair = end - start\n",
    "\n",
    "print(\"-\" * 100)\n",
    "print(\"Time Key Pair: \" + str(time_kyber_keypair) + \" seconds\")\n",
    "print(\"-\" * 100)"
   ]
  },
  {
   "cell_type": "markdown",
   "id": "be360b03",
   "metadata": {},
   "source": [
    "### Encrypt"
   ]
  },
  {
   "cell_type": "code",
   "execution_count": 12,
   "id": "0893f40e",
   "metadata": {},
   "outputs": [
    {
     "name": "stdout",
     "output_type": "stream",
     "text": [
      "----------------------------------------------------------------------------------------------------\n",
      "Kyber Encryption: 0.000374 seconds\n",
      "----------------------------------------------------------------------------------------------------\n"
     ]
    }
   ],
   "source": [
    "start = time.time()\n",
    "ciphertext, shared_secret_enc = kem.encap_secret(public_key)\n",
    "end = time.time()\n",
    "\n",
    "time_kyber_enc = end - start\n",
    "\n",
    "print(\"-\" * 100)\n",
    "print(f\"Kyber Encryption: {time_kyber_enc:.6f} seconds\")\n",
    "print(\"-\" * 100)"
   ]
  },
  {
   "cell_type": "markdown",
   "id": "4e1cdb5e",
   "metadata": {},
   "source": [
    "### Decrypt"
   ]
  },
  {
   "cell_type": "code",
   "execution_count": 14,
   "id": "0ba57e02",
   "metadata": {},
   "outputs": [
    {
     "name": "stdout",
     "output_type": "stream",
     "text": [
      "----------------------------------------------------------------------------------------------------\n",
      "Kyber Decryption: 0.000321 seconds\n",
      "----------------------------------------------------------------------------------------------------\n"
     ]
    }
   ],
   "source": [
    "start = time.time()\n",
    "shared_secret_dec = kem.decap_secret(ciphertext)\n",
    "end = time.time()\n",
    "\n",
    "time_kyber_decrypt = end - start\n",
    "\n",
    "print(\"-\" * 100)\n",
    "print(f\"Kyber Decryption: {time_kyber_decrypt:.6f} seconds\")\n",
    "print(\"-\" * 100)"
   ]
  },
  {
   "cell_type": "code",
   "execution_count": 18,
   "id": "a0582fbc",
   "metadata": {},
   "outputs": [
    {
     "name": "stdout",
     "output_type": "stream",
     "text": [
      "----------------------------------------------------------------------------------------------------\n",
      "Shared Secret: 056f85bc3c966990c161ef265029cefdc2e63513f1dcad7fab2e5ec825a1d848\n",
      "----------------------------------------------------------------------------------------------------\n"
     ]
    }
   ],
   "source": [
    "assert shared_secret_enc == shared_secret_dec, \"Key exchange failed: Secrets do not match!\"\n",
    "\n",
    "print(\"-\" * 100)\n",
    "print(f\"Shared Secret: {shared_secret_enc.hex()}\")\n",
    "print(\"-\" * 100)"
   ]
  },
  {
   "cell_type": "markdown",
   "id": "0b987f77",
   "metadata": {},
   "source": [
    "## Simulated Hybrid Handshake"
   ]
  },
  {
   "cell_type": "code",
   "execution_count": 5,
   "id": "f6162242",
   "metadata": {},
   "outputs": [],
   "source": [
    "import nacl.public\n",
    "import oqs\n",
    "import time"
   ]
  },
  {
   "cell_type": "code",
   "execution_count": 4,
   "id": "8533b84e",
   "metadata": {},
   "outputs": [
    {
     "name": "stdout",
     "output_type": "stream",
     "text": [
      "Keypairs generated\n",
      "Hybrid shared secret established!\n",
      "Hybrid Key (Hex): 8fcb0e49444e40f7248b4b180967b8b18acc9f1e7656ff8591e9d9b5c96af22b73826217677d5bca46eee206ab6728b7341cab7c602f99572409a81e48907520\n",
      "--------------------------------------------------\n",
      "Hybrid Shared Secret: 8fcb0e49444e40f7248b4b180967b8b18acc9f1e7656ff8591e9d9b5c96af22b73826217677d5bca46eee206ab6728b7341cab7c602f99572409a81e48907520\n",
      "Handshake Time: 0.000710 seconds\n",
      "--------------------------------------------------\n"
     ]
    }
   ],
   "source": [
    "# generate ECDH Key\n",
    "server_ecdh_private = nacl.public.PrivateKey.generate()\n",
    "server_ecdh_public = server_ecdh_private.public_key\n",
    "\n",
    "client_ecdh_private = nacl.public.PrivateKey.generate()\n",
    "client_ecdh_public = client_ecdh_private.public_key\n",
    "\n",
    "# generate Kyber Key\n",
    "server_kyber = oqs.KeyEncapsulation(\"Kyber768\")\n",
    "server_kyber_public = server_kyber.generate_keypair()\n",
    "\n",
    "client_kyber = oqs.KeyEncapsulation(\"Kyber768\")\n",
    "client_kyber_ciphertext, client_kyber_shared_secret = client_kyber.encap_secret(server_kyber_public)\n",
    "\n",
    "print(\"Keypairs generated\")\n",
    "\n",
    "\n",
    "# ECDH shared secret\n",
    "server_box = nacl.public.Box(server_ecdh_private, client_ecdh_public)\n",
    "shared_secret_ecdh = server_box.shared_key()\n",
    "\n",
    " \n",
    "# Kyber shared secret (decapsulation)\n",
    "shared_secret_kyber = server_kyber.decap_secret(client_kyber_ciphertext)\n",
    "\n",
    "# Combine both shared secrets into a hybrid key\n",
    "hybrid_shared_secret = shared_secret_ecdh + shared_secret_kyber\n",
    "\n",
    "print(\"Hybrid shared secret established!\")\n",
    "print(f\"Hybrid Key (Hex): {hybrid_shared_secret.hex()}\")\n",
    "\n",
    "\n",
    "# Start timing\n",
    "start_time = time.time()\n",
    "\n",
    "# ECDH key exchange\n",
    "server_box = nacl.public.Box(server_ecdh_private, client_ecdh_public)\n",
    "shared_secret_ecdh = server_box.shared_key()\n",
    "\n",
    "# Kyber key exchange (decapsulation)\n",
    "shared_secret_kyber = server_kyber.decap_secret(client_kyber_ciphertext)\n",
    "\n",
    "# Combine both shared secrets\n",
    "hybrid_shared_secret = shared_secret_ecdh + shared_secret_kyber\n",
    "\n",
    "# End timing\n",
    "end_time = time.time()\n",
    "handshake_time = end_time - start_time\n",
    "\n",
    "print(\"-\" * 50)\n",
    "print(f\"Hybrid Shared Secret: {hybrid_shared_secret.hex()}\")\n",
    "print(f\"Handshake Time: {handshake_time:.6f} seconds\")\n",
    "print(\"-\" * 50)"
   ]
  }
 ],
 "metadata": {
  "kernelspec": {
   "display_name": "Python 3 (ipykernel)",
   "language": "python",
   "name": "python3"
  },
  "language_info": {
   "codemirror_mode": {
    "name": "ipython",
    "version": 3
   },
   "file_extension": ".py",
   "mimetype": "text/x-python",
   "name": "python",
   "nbconvert_exporter": "python",
   "pygments_lexer": "ipython3",
   "version": "3.11.5"
  }
 },
 "nbformat": 4,
 "nbformat_minor": 5
}
