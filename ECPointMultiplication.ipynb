{
 "cells": [
  {
   "cell_type": "markdown",
   "id": "4dad1965",
   "metadata": {},
   "source": [
    "# Point multiplication algorithm"
   ]
  },
  {
   "cell_type": "markdown",
   "id": "2cef77b3",
   "metadata": {},
   "source": [
    "- similar to exponentiation in multiplicative groups\n",
    "- adopt square-and-multiply algorithm\n",
    "- difference: squaring becomes doubling and multiplication becomes addition of P"
   ]
  },
  {
   "cell_type": "code",
   "execution_count": 5,
   "id": "0a499993",
   "metadata": {},
   "outputs": [],
   "source": [
    "class EllipticCurve:\n",
    "    def __init__(self, a, b, p):\n",
    "        self.a = a\n",
    "        self.b = b\n",
    "        self.p = p\n",
    "    \n",
    "    def inverse_mod(self,x):\n",
    "        return pow(x, self.p - 2, self.p)\n",
    "    \n",
    "    def point_add(self, P, Q):\n",
    "        if P is None:\n",
    "            return Q\n",
    "        if Q is None:\n",
    "            return P\n",
    "        \n",
    "        x1, y1 = P\n",
    "        x2, y2 = Q\n",
    "        \n",
    "        if P == Q:\n",
    "            if y1 == 0:\n",
    "                return None\n",
    "            s = ((3* x1 ** 2 + self.a) * self.inverse_mod(2 * y1)) % self.p\n",
    "        else:\n",
    "            if x1 == x2:\n",
    "                return None\n",
    "            s = ((y2 - y1) * self.inverse_mod(x2 - x1)) % self.p\n",
    "        \n",
    "        x3 = (s ** 2 - x1 - x2) % self.p\n",
    "        y3 = (s * (x1 - x3) - y1) % self.p\n",
    "\n",
    "        return (x3, y3)\n",
    "    \n",
    "    def double_and_add(self, P, d):\n",
    "        T = None\n",
    "        binary_d = bin(d)[2:]\n",
    "        \n",
    "        for bit in binary_d:\n",
    "            if T is not None:\n",
    "                T = self.point_add(T, T)\n",
    "            if bit == '1':\n",
    "                T = self.point_add(T, P)\n",
    "        return T\n",
    "    "
   ]
  },
  {
   "cell_type": "code",
   "execution_count": 7,
   "id": "80eb7e5f",
   "metadata": {},
   "outputs": [
    {
     "data": {
      "text/plain": [
       "(5, 16)"
      ]
     },
     "execution_count": 7,
     "metadata": {},
     "output_type": "execute_result"
    }
   ],
   "source": [
    "curve = EllipticCurve(a = 2, b = 2, p = 17)\n",
    "P = (5, 1)\n",
    "d = 18\n",
    "\n",
    "result = curve.double_and_add(P, d)\n",
    "result"
   ]
  },
  {
   "cell_type": "code",
   "execution_count": null,
   "id": "3c1ff161",
   "metadata": {},
   "outputs": [],
   "source": []
  }
 ],
 "metadata": {
  "kernelspec": {
   "display_name": "Python 3 (ipykernel)",
   "language": "python",
   "name": "python3"
  },
  "language_info": {
   "codemirror_mode": {
    "name": "ipython",
    "version": 3
   },
   "file_extension": ".py",
   "mimetype": "text/x-python",
   "name": "python",
   "nbconvert_exporter": "python",
   "pygments_lexer": "ipython3",
   "version": "3.11.5"
  }
 },
 "nbformat": 4,
 "nbformat_minor": 5
}
